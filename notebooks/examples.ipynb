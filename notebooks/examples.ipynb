{
 "cells": [
  {
   "cell_type": "markdown",
   "metadata": {},
   "source": [
    "# First Step in SageMath\n",
    "\n",
    "The objective of this class is to present tools and classical data structures to interact with SageMath."
   ]
  },
  {
   "cell_type": "markdown",
   "metadata": {},
   "source": [
    " ## Find help\n",
    " \n",
    " To find help, just type the name of the mathematical concept/object that you wish to use (with first letter in upper and lower case) followed by the question mark and press shift+Enter."
   ]
  },
  {
   "cell_type": "code",
   "execution_count": 1,
   "metadata": {},
   "outputs": [],
   "source": [
    "from cn_hyperarr import *"
   ]
  },
  {
   "cell_type": "markdown",
   "metadata": {},
   "source": [
    "If you don't know the name of the mathematical function, you can guess it by writing the first letters and hit the TAB key."
   ]
  },
  {
   "cell_type": "code",
   "execution_count": 5,
   "metadata": {},
   "outputs": [
    {
     "data": {
      "text/plain": [
       "((0, 0, 1), (0, 1, 0), (0, 1, 1), (1, 0, 0), (1, 0, 1), (1, 1, 1))"
      ]
     },
     "execution_count": 5,
     "metadata": {},
     "output_type": "execute_result"
    }
   ],
   "source": [
    "always_normals = db_normals_CEL[(6,24,1)];always_normals"
   ]
  },
  {
   "cell_type": "code",
   "execution_count": 4,
   "metadata": {},
   "outputs": [
    {
     "data": {
      "text/plain": [
       "<class 'tuple'>"
      ]
     },
     "execution_count": 4,
     "metadata": {},
     "output_type": "execute_result"
    }
   ],
   "source": [
    "type(always_normals)"
   ]
  },
  {
   "cell_type": "code",
   "execution_count": 6,
   "metadata": {},
   "outputs": [],
   "source": [
    "always_vc = VectorConfiguration([vector(x) for x in always_normals])"
   ]
  },
  {
   "cell_type": "code",
   "execution_count": 7,
   "metadata": {},
   "outputs": [],
   "source": [
    "always_check = RegionsCongruenceNormality(always_vc)"
   ]
  },
  {
   "cell_type": "code",
   "execution_count": 9,
   "metadata": {},
   "outputs": [],
   "source": [
    "RegionsCongruenceNormality?"
   ]
  },
  {
   "cell_type": "code",
   "execution_count": 8,
   "metadata": {},
   "outputs": [
    {
     "data": {
      "text/plain": [
       "{((1, 1, 1), Vector configuration of 6 vectors in dimension 3): True,\n",
       " ((-1, 1, 2), Vector configuration of 6 vectors in dimension 3): True,\n",
       " ((-2, 2, 1), Vector configuration of 6 vectors in dimension 3): True,\n",
       " ((-3, 1, 1), Vector configuration of 6 vectors in dimension 3): True,\n",
       " ((1, -1, 2), Vector configuration of 6 vectors in dimension 3): True,\n",
       " ((-1, -1, 3), Vector configuration of 6 vectors in dimension 3): True,\n",
       " ((-2, -2, 3), Vector configuration of 6 vectors in dimension 3): True,\n",
       " ((-3, -1, 2), Vector configuration of 6 vectors in dimension 3): True,\n",
       " ((2, -2, 1), Vector configuration of 6 vectors in dimension 3): True,\n",
       " ((1, -3, 1), Vector configuration of 6 vectors in dimension 3): True,\n",
       " ((-1, -3, 2), Vector configuration of 6 vectors in dimension 3): True,\n",
       " ((-2, -2, 1), Vector configuration of 6 vectors in dimension 3): True,\n",
       " ((-1, -1, -1), Vector configuration of 6 vectors in dimension 3): True,\n",
       " ((1, -1, -2), Vector configuration of 6 vectors in dimension 3): True,\n",
       " ((2, -2, -1), Vector configuration of 6 vectors in dimension 3): True,\n",
       " ((3, -1, -1), Vector configuration of 6 vectors in dimension 3): True,\n",
       " ((-1, 1, -2), Vector configuration of 6 vectors in dimension 3): True,\n",
       " ((1, 1, -3), Vector configuration of 6 vectors in dimension 3): True,\n",
       " ((2, 2, -3), Vector configuration of 6 vectors in dimension 3): True,\n",
       " ((3, 1, -2), Vector configuration of 6 vectors in dimension 3): True,\n",
       " ((-2, 2, -1), Vector configuration of 6 vectors in dimension 3): True,\n",
       " ((-1, 3, -1), Vector configuration of 6 vectors in dimension 3): True,\n",
       " ((1, 3, -2), Vector configuration of 6 vectors in dimension 3): True,\n",
       " ((2, 2, -1), Vector configuration of 6 vectors in dimension 3): True}"
      ]
     },
     "execution_count": 8,
     "metadata": {},
     "output_type": "execute_result"
    }
   ],
   "source": [
    "always_check"
   ]
  },
  {
   "cell_type": "markdown",
   "metadata": {},
   "source": [
    "# Polynomials"
   ]
  },
  {
   "cell_type": "markdown",
   "metadata": {},
   "source": [
    "Define the polynomial $Q = y^2 - 1 - 2\\cdot t + t^3$."
   ]
  },
  {
   "cell_type": "code",
   "execution_count": null,
   "metadata": {},
   "outputs": [],
   "source": [
    "Q = y^2-1-2*t+t^3;Q"
   ]
  },
  {
   "cell_type": "markdown",
   "metadata": {},
   "source": [
    "Show it in 3 dimensions."
   ]
  },
  {
   "cell_type": "code",
   "execution_count": null,
   "metadata": {},
   "outputs": [],
   "source": [
    "plot3d(Q,(t,-20,20),(y,-20,20))"
   ]
  },
  {
   "cell_type": "markdown",
   "metadata": {},
   "source": [
    " - polynomial interpolation\n",
    " \n",
    " Find the (minimal degree) polynomial that passes through the following points: $[1,2]$, $[3,2]$, $[-1,-1]$ and $[4,3]$.\n"
   ]
  },
  {
   "cell_type": "code",
   "execution_count": null,
   "metadata": {},
   "outputs": [],
   "source": [
    "T.<x> = PolynomialRing(QQ);"
   ]
  },
  {
   "cell_type": "code",
   "execution_count": null,
   "metadata": {},
   "outputs": [],
   "source": [
    "T.lagrange_polynomial([[1,2],[3,2],[-1,-1],[4,3]])"
   ]
  },
  {
   "cell_type": "code",
   "execution_count": null,
   "metadata": {},
   "outputs": [],
   "source": []
  },
  {
   "cell_type": "markdown",
   "metadata": {},
   "source": [
    " - Polynomial factorization\n",
    "\n",
    "Find the factorizations of the polynomial $54\\cdot x^4+36\\cdot x^3-102\\cdot x^2-72\\cdot x-12$ over the following rings: $\\mathbb{Z}, \\mathbb{Q}$, and the algebraic numbers. With a bit more search, for $\\mathbb{Q}[\\sqrt{2}], GF(5)$."
   ]
  },
  {
   "cell_type": "code",
   "execution_count": null,
   "metadata": {},
   "outputs": [],
   "source": [
    "# A.<x> = PolynomialRing(QQ)\n",
    "# A.<x> = PolynomialRing(ZZ)\n",
    "A.<x> = PolynomialRing(QQbar)\n",
    "F = 54*x^4 + 36*x^3 - 102*x^2 - 72*x - 12\n",
    "F.factor()"
   ]
  },
  {
   "cell_type": "code",
   "execution_count": null,
   "metadata": {},
   "outputs": [],
   "source": [
    "t = var('t') # to reset the variable from the above 't'\n",
    "B.<a> = QQ.extension(t^2 - 2); # 'a' is the new value added representing 'sqrt(2)'\n",
    "A.<x> = PolynomialRing(B) # creating the polynomial ring\n",
    "F = A(54*x^4 + 36*x^3 - 102*x^2 - 72*x - 12) # making sure that the polynomial lives in 'A'\n",
    "F.factor()"
   ]
  },
  {
   "cell_type": "markdown",
   "metadata": {},
   "source": [
    " - Solution of linear equations\n",
    " \n",
    "Look up how to determine the solution(s) of the following linear equation:\n",
    " $$\n",
    " \\left(\\begin{array}{rrr}\n",
    "2 & 4 & 1 \\\\\n",
    "8 & 9 & 2 \\\\\n",
    "3 & 7 & 3\n",
    "\\end{array}\\right) \\times x = \n",
    "\\left(\\begin{array}{r}\n",
    "2 \\\\\n",
    "2 \\\\\n",
    "1\n",
    "\\end{array}\\right)\n",
    " $$"
   ]
  },
  {
   "cell_type": "code",
   "execution_count": null,
   "metadata": {},
   "outputs": [],
   "source": [
    "A = matrix(3,3,[2,4,1,8,9,2,3,7,3])\n",
    "B = vector([2,2,1])\n",
    "A\\B"
   ]
  },
  {
   "cell_type": "markdown",
   "metadata": {},
   "source": [
    " - Diagonalization of a matrix\n",
    " \n",
    " Let $M$ be the matrix\n",
    "$$\n",
    " M=\n",
    " \\left(\\begin{array}{rrr}\n",
    "0 & 1 & 3 \\\\\n",
    "1 & -1 & 0 \\\\\n",
    "1 & 0 & 1\n",
    "\\end{array}\\right)\n",
    "$$\n",
    " \n",
    " \n",
    " \n",
    " Find how to diagonalize $M$ by using the eigenmatrices and its diagonalization (if possible)."
   ]
  },
  {
   "cell_type": "code",
   "execution_count": null,
   "metadata": {},
   "outputs": [],
   "source": [
    "M = matrix(QQ,3,3,[0,1,3,1,-1,0,1,0,1]);M"
   ]
  },
  {
   "cell_type": "code",
   "execution_count": null,
   "metadata": {},
   "outputs": [],
   "source": [
    "D,R = M.eigenmatrix_left();D"
   ]
  },
  {
   "cell_type": "code",
   "execution_count": null,
   "metadata": {},
   "outputs": [],
   "source": [
    "R^-1*D*R"
   ]
  },
  {
   "cell_type": "code",
   "execution_count": null,
   "metadata": {},
   "outputs": [],
   "source": [
    "R^-1*D*R == M"
   ]
  },
  {
   "cell_type": "markdown",
   "metadata": {},
   "source": [
    " - Representation in Jordan form\n",
    " \n",
    "Define the following matrix $M=\n",
    "\\left(\\begin{array}{rrr}\n",
    "5 & 1 & -1 \\\\\n",
    "-1 & 7 & -4 \\\\\n",
    "0 & 0 & 3\n",
    "\\end{array}\\right)\n",
    "$.\n",
    "\n"
   ]
  },
  {
   "cell_type": "code",
   "execution_count": null,
   "metadata": {},
   "outputs": [],
   "source": [
    "M = matrix(QQ,3,3,[5,1,-1,-1,7,-4,0,0,3]);M"
   ]
  },
  {
   "cell_type": "markdown",
   "metadata": {},
   "source": [
    "If the matrix is diagonalizable, we can use eigenmatrix to compute the diagonal matrix. Otherwise we should not do it!\n",
    "\n",
    "Try to diagonalize the matrix $M$:"
   ]
  },
  {
   "cell_type": "code",
   "execution_count": null,
   "metadata": {},
   "outputs": [],
   "source": [
    "D,R = M.eigenmatrix_left();D"
   ]
  },
  {
   "cell_type": "markdown",
   "metadata": {},
   "source": [
    "Show the eigenmatrix, what do you notice?"
   ]
  },
  {
   "cell_type": "code",
   "execution_count": null,
   "metadata": {},
   "outputs": [],
   "source": [
    "R"
   ]
  },
  {
   "cell_type": "markdown",
   "metadata": {},
   "source": [
    "Here, we see that the eigenmatrix is not invertible. This is disapointing! In fact $M$ is not diagonalizable and we should not have used the method eigenmatrix_left.\n",
    "\n",
    "In fact, we must put the matrix in the Jordan form. Look for the function and give the eigenmatrix."
   ]
  },
  {
   "cell_type": "code",
   "execution_count": null,
   "metadata": {},
   "outputs": [],
   "source": [
    "JF,R = M.jordan_form(transformation=True);JF,R"
   ]
  },
  {
   "cell_type": "code",
   "execution_count": null,
   "metadata": {},
   "outputs": [],
   "source": []
  },
  {
   "cell_type": "markdown",
   "metadata": {},
   "source": [
    "Verify that you really obtained the Jordan form."
   ]
  },
  {
   "cell_type": "code",
   "execution_count": null,
   "metadata": {},
   "outputs": [],
   "source": [
    "R*JF*R^-1"
   ]
  },
  {
   "cell_type": "markdown",
   "metadata": {},
   "source": [
    "**Exercise :** Compute $M^{11}$"
   ]
  },
  {
   "cell_type": "code",
   "execution_count": null,
   "metadata": {},
   "outputs": [],
   "source": [
    "R*JF^11*R^-1"
   ]
  },
  {
   "cell_type": "markdown",
   "metadata": {},
   "source": [
    "# Derivation and Integration"
   ]
  },
  {
   "cell_type": "markdown",
   "metadata": {},
   "source": [
    " - Define the following functions: $$sin(x)$$ \n",
    " $$fx^3+x-1$$\n",
    " $$\\ln(x^4-3)$$ \n",
    " Look in the documentation how to derivate a function and compute the first derivative of each functions."
   ]
  },
  {
   "cell_type": "code",
   "execution_count": null,
   "metadata": {},
   "outputs": [],
   "source": [
    "x = var('x')\n",
    "f = sin(x)\n",
    "g = x^3 + x - 1\n",
    "h = ln(x^4 - 3)\n",
    "\n",
    "f.derivative(),g.derivative(),h.derivative()"
   ]
  },
  {
   "cell_type": "markdown",
   "metadata": {},
   "source": [
    " - Compute the third derivative of the functions."
   ]
  },
  {
   "cell_type": "code",
   "execution_count": null,
   "metadata": {},
   "outputs": [],
   "source": [
    "f.derivative(3),g.derivative(3),h.derivative(3)"
   ]
  },
  {
   "cell_type": "markdown",
   "metadata": {},
   "source": [
    " - Compute the following integral \n",
    "    $$\n",
    "    \\int x\\sin(x^3)dx\n",
    "    $$"
   ]
  },
  {
   "cell_type": "code",
   "execution_count": null,
   "metadata": {},
   "outputs": [],
   "source": [
    "integrate(x*sin(x^3), x)"
   ]
  },
  {
   "cell_type": "markdown",
   "metadata": {},
   "source": [
    " - and this one :\n",
    " $$\n",
    " \\int_0^1 \\frac{x}{x^2+1} dx\n",
    " $$"
   ]
  },
  {
   "cell_type": "code",
   "execution_count": null,
   "metadata": {},
   "outputs": [],
   "source": [
    "integrate(x/(x^2 + 1), x,0,1)"
   ]
  }
 ],
 "metadata": {
  "kernelspec": {
   "display_name": "SageMath 9.3.beta1",
   "language": "sage",
   "name": "sagemath"
  },
  "language_info": {
   "codemirror_mode": {
    "name": "ipython",
    "version": 3
   },
   "file_extension": ".py",
   "mimetype": "text/x-python",
   "name": "python",
   "nbconvert_exporter": "python",
   "pygments_lexer": "ipython3",
   "version": "3.8.5"
  }
 },
 "nbformat": 4,
 "nbformat_minor": 1
}
